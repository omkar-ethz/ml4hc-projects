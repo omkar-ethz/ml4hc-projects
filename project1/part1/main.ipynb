{
 "cells": [
  {
   "attachments": {},
   "cell_type": "markdown",
   "metadata": {},
   "source": [
    "### Q1: Exploratory Data Analysis (5 Pts)\n",
    "Get familiar with the dataset by exploring the different features, their distribution, and the labels.\n",
    "Check for common pitfalls like missing or nonsensical data, unusual feature distribution, outliers,\n",
    "or class imbalance, and describe how to handle them. After having familiarized yourself with the\n",
    "data, explain how you preprocess the dataset for the remaining tasks of part 1. Interpretabilityand explainability aim at gaining more insights about the data than just optimizing predictive\n",
    "performance. A first simple step is to have a look at the (linear) dependencies of the variables.\n",
    "Visualize the pairwise correlation matrix and describe which features seem to be important for\n",
    "predicting the label."
   ]
  },
  {
   "cell_type": "code",
   "execution_count": 289,
   "metadata": {},
   "outputs": [],
   "source": [
    "import numpy as np\n",
    "import pandas as pd\n",
    "import matplotlib.pyplot as plt\n",
    "import seaborn as sns\n",
    "sns.set_theme()\n",
    "data_frame = pd.read_csv(\"/home/omkar/ethz/fs23/ml4hc/project1/heart_failure/heart.csv\")"
   ]
  },
  {
   "cell_type": "code",
   "execution_count": 290,
   "metadata": {},
   "outputs": [
    {
     "data": {
      "text/html": [
       "<div>\n",
       "<style scoped>\n",
       "    .dataframe tbody tr th:only-of-type {\n",
       "        vertical-align: middle;\n",
       "    }\n",
       "\n",
       "    .dataframe tbody tr th {\n",
       "        vertical-align: top;\n",
       "    }\n",
       "\n",
       "    .dataframe thead th {\n",
       "        text-align: right;\n",
       "    }\n",
       "</style>\n",
       "<table border=\"1\" class=\"dataframe\">\n",
       "  <thead>\n",
       "    <tr style=\"text-align: right;\">\n",
       "      <th></th>\n",
       "      <th>Age</th>\n",
       "      <th>Sex</th>\n",
       "      <th>ChestPainType</th>\n",
       "      <th>RestingBP</th>\n",
       "      <th>Cholesterol</th>\n",
       "      <th>FastingBS</th>\n",
       "      <th>RestingECG</th>\n",
       "      <th>MaxHR</th>\n",
       "      <th>ExerciseAngina</th>\n",
       "      <th>Oldpeak</th>\n",
       "      <th>ST_Slope</th>\n",
       "      <th>HeartDisease</th>\n",
       "    </tr>\n",
       "  </thead>\n",
       "  <tbody>\n",
       "    <tr>\n",
       "      <th>0</th>\n",
       "      <td>40</td>\n",
       "      <td>M</td>\n",
       "      <td>ATA</td>\n",
       "      <td>140</td>\n",
       "      <td>289</td>\n",
       "      <td>0</td>\n",
       "      <td>Normal</td>\n",
       "      <td>172</td>\n",
       "      <td>N</td>\n",
       "      <td>0.0</td>\n",
       "      <td>Up</td>\n",
       "      <td>0</td>\n",
       "    </tr>\n",
       "    <tr>\n",
       "      <th>1</th>\n",
       "      <td>49</td>\n",
       "      <td>F</td>\n",
       "      <td>NAP</td>\n",
       "      <td>160</td>\n",
       "      <td>180</td>\n",
       "      <td>0</td>\n",
       "      <td>Normal</td>\n",
       "      <td>156</td>\n",
       "      <td>N</td>\n",
       "      <td>1.0</td>\n",
       "      <td>Flat</td>\n",
       "      <td>1</td>\n",
       "    </tr>\n",
       "    <tr>\n",
       "      <th>2</th>\n",
       "      <td>37</td>\n",
       "      <td>M</td>\n",
       "      <td>ATA</td>\n",
       "      <td>130</td>\n",
       "      <td>283</td>\n",
       "      <td>0</td>\n",
       "      <td>ST</td>\n",
       "      <td>98</td>\n",
       "      <td>N</td>\n",
       "      <td>0.0</td>\n",
       "      <td>Up</td>\n",
       "      <td>0</td>\n",
       "    </tr>\n",
       "    <tr>\n",
       "      <th>3</th>\n",
       "      <td>48</td>\n",
       "      <td>F</td>\n",
       "      <td>ASY</td>\n",
       "      <td>138</td>\n",
       "      <td>214</td>\n",
       "      <td>0</td>\n",
       "      <td>Normal</td>\n",
       "      <td>108</td>\n",
       "      <td>Y</td>\n",
       "      <td>1.5</td>\n",
       "      <td>Flat</td>\n",
       "      <td>1</td>\n",
       "    </tr>\n",
       "    <tr>\n",
       "      <th>4</th>\n",
       "      <td>54</td>\n",
       "      <td>M</td>\n",
       "      <td>NAP</td>\n",
       "      <td>150</td>\n",
       "      <td>195</td>\n",
       "      <td>0</td>\n",
       "      <td>Normal</td>\n",
       "      <td>122</td>\n",
       "      <td>N</td>\n",
       "      <td>0.0</td>\n",
       "      <td>Up</td>\n",
       "      <td>0</td>\n",
       "    </tr>\n",
       "  </tbody>\n",
       "</table>\n",
       "</div>"
      ],
      "text/plain": [
       "   Age Sex ChestPainType  RestingBP  Cholesterol  FastingBS RestingECG  MaxHR  \\\n",
       "0   40   M           ATA        140          289          0     Normal    172   \n",
       "1   49   F           NAP        160          180          0     Normal    156   \n",
       "2   37   M           ATA        130          283          0         ST     98   \n",
       "3   48   F           ASY        138          214          0     Normal    108   \n",
       "4   54   M           NAP        150          195          0     Normal    122   \n",
       "\n",
       "  ExerciseAngina  Oldpeak ST_Slope  HeartDisease  \n",
       "0              N      0.0       Up             0  \n",
       "1              N      1.0     Flat             1  \n",
       "2              N      0.0       Up             0  \n",
       "3              Y      1.5     Flat             1  \n",
       "4              N      0.0       Up             0  "
      ]
     },
     "execution_count": 290,
     "metadata": {},
     "output_type": "execute_result"
    }
   ],
   "source": [
    "data_frame.head()"
   ]
  },
  {
   "cell_type": "code",
   "execution_count": 291,
   "metadata": {},
   "outputs": [
    {
     "name": "stdout",
     "output_type": "stream",
     "text": [
      "Shape: (918, 12)\n",
      "#positive samples:  508\n",
      "#negative samples:  410\n"
     ]
    }
   ],
   "source": [
    "print(\"Shape:\", data_frame.shape)\n",
    "print(\"#positive samples: \", len(data_frame.HeartDisease[data_frame.HeartDisease == 1]))\n",
    "print(\"#negative samples: \", len(data_frame.HeartDisease[data_frame.HeartDisease == 0]))"
   ]
  },
  {
   "attachments": {},
   "cell_type": "markdown",
   "metadata": {},
   "source": [
    "As we can see, there are slightly more positive samples than negative ones - but the labels are still fairly balanced.\n",
    "We now look for missing values: //TO-DO cholesterol seems to have some 0s - probably missing values : impute them or delete?\n",
    "\n",
    "We note that the following columns are categorical, hence convert their dtype from `object` to `category`"
   ]
  },
  {
   "cell_type": "code",
   "execution_count": 292,
   "metadata": {},
   "outputs": [
    {
     "data": {
      "text/plain": [
       "(array(['M', 'F'], dtype=object),\n",
       " array(['ATA', 'NAP', 'ASY', 'TA'], dtype=object),\n",
       " array(['Normal', 'ST', 'LVH'], dtype=object),\n",
       " array(['N', 'Y'], dtype=object),\n",
       " array(['Up', 'Flat', 'Down'], dtype=object))"
      ]
     },
     "execution_count": 292,
     "metadata": {},
     "output_type": "execute_result"
    }
   ],
   "source": [
    "data_frame.Sex.unique(), data_frame.ChestPainType.unique(), data_frame.RestingECG.unique(), data_frame.ExerciseAngina.unique(), data_frame.ST_Slope.unique()"
   ]
  },
  {
   "cell_type": "code",
   "execution_count": 293,
   "metadata": {},
   "outputs": [
    {
     "name": "stdout",
     "output_type": "stream",
     "text": [
      "<class 'pandas.core.frame.DataFrame'>\n",
      "RangeIndex: 918 entries, 0 to 917\n",
      "Data columns (total 12 columns):\n",
      " #   Column          Non-Null Count  Dtype   \n",
      "---  ------          --------------  -----   \n",
      " 0   Age             918 non-null    int64   \n",
      " 1   Sex             918 non-null    category\n",
      " 2   ChestPainType   918 non-null    category\n",
      " 3   RestingBP       918 non-null    int64   \n",
      " 4   Cholesterol     918 non-null    int64   \n",
      " 5   FastingBS       918 non-null    int64   \n",
      " 6   RestingECG      918 non-null    category\n",
      " 7   MaxHR           918 non-null    int64   \n",
      " 8   ExerciseAngina  918 non-null    category\n",
      " 9   Oldpeak         918 non-null    float64 \n",
      " 10  ST_Slope        918 non-null    category\n",
      " 11  HeartDisease    918 non-null    int64   \n",
      "dtypes: category(5), float64(1), int64(6)\n",
      "memory usage: 55.5 KB\n"
     ]
    }
   ],
   "source": [
    "data_frame.Sex = data_frame.Sex.astype(\"category\")\n",
    "data_frame.ChestPainType = data_frame.ChestPainType.astype(\"category\")\n",
    "data_frame.RestingECG = data_frame.RestingECG.astype(\"category\")\n",
    "data_frame.ExerciseAngina = data_frame.ExerciseAngina.astype(\"category\")\n",
    "data_frame.ST_Slope = data_frame.ST_Slope.astype(\"category\")\n",
    "data_frame.info()"
   ]
  },
  {
   "cell_type": "code",
   "execution_count": 294,
   "metadata": {},
   "outputs": [
    {
     "name": "stderr",
     "output_type": "stream",
     "text": [
      "/tmp/ipykernel_14034/378703819.py:3: SettingWithCopyWarning: \n",
      "A value is trying to be set on a copy of a slice from a DataFrame\n",
      "\n",
      "See the caveats in the documentation: https://pandas.pydata.org/pandas-docs/stable/user_guide/indexing.html#returning-a-view-versus-a-copy\n",
      "  data_frame[\"Cholesterol\"][data_frame.Cholesterol[data_frame.Cholesterol == 0].index] = zero_excluded_mean\n"
     ]
    },
    {
     "data": {
      "image/png": "[encoded data removed]",
      "text/plain": [
       "<Figure size 432x288 with 1 Axes>"
      ]
     },
     "metadata": {},
     "output_type": "display_data"
    }
   ],
   "source": [
    "sns.boxplot(data=data_frame, x=\"Cholesterol\", notch=True)\n",
    "zero_excluded_mean = data_frame.Cholesterol[data_frame.Cholesterol != 0].mean()\n",
    "data_frame[\"Cholesterol\"][data_frame.Cholesterol[data_frame.Cholesterol == 0].index] = zero_excluded_mean"
   ]
  },
  {
   "cell_type": "code",
   "execution_count": 295,
   "metadata": {},
   "outputs": [
    {
     "data": {
      "text/plain": [
       "<Axes: xlabel='RestingBP'>"
      ]
     },
     "execution_count": 295,
     "metadata": {},
     "output_type": "execute_result"
    },
    {
     "data": {
      "image/png": "[encoded data removed]",
      "text/plain": [
       "<Figure size 432x288 with 1 Axes>"
      ]
     },
     "metadata": {},
     "output_type": "display_data"
    }
   ],
   "source": [
    "sns.boxplot(data=data_frame, x=\"RestingBP\", notch=True)"
   ]
  },
  {
   "cell_type": "code",
   "execution_count": 296,
   "metadata": {},
   "outputs": [
    {
     "data": {
      "text/plain": [
       "<Axes: xlabel='RestingBP'>"
      ]
     },
     "execution_count": 296,
     "metadata": {},
     "output_type": "execute_result"
    },
    {
     "data": {
      "image/png": "[encoded data removed]",
      "text/plain": [
       "<Figure size 432x288 with 1 Axes>"
      ]
     },
     "metadata": {},
     "output_type": "display_data"
    }
   ],
   "source": [
    "\n",
    "data_frame = data_frame.drop(data_frame.RestingBP[data_frame.RestingBP < 75].index)\n",
    "data_frame.describe()\n",
    "sns.boxplot(data=data_frame, x=\"RestingBP\", notch=True)"
   ]
  },
  {
   "cell_type": "code",
   "execution_count": 297,
   "metadata": {},
   "outputs": [
    {
     "data": {
      "text/plain": [
       "<Axes: xlabel='Cholesterol'>"
      ]
     },
     "execution_count": 297,
     "metadata": {},
     "output_type": "execute_result"
    },
    {
     "data": {
      "image/png": "[encoded data removed]",
      "text/plain": [
       "<Figure size 432x288 with 1 Axes>"
      ]
     },
     "metadata": {},
     "output_type": "display_data"
    }
   ],
   "source": [
    "sns.boxplot(data=data_frame, x=\"Cholesterol\", notch=True)"
   ]
  },
  {
   "attachments": {},
   "cell_type": "markdown",
   "metadata": {},
   "source": [
    "#### Visualizing pairwise correlation\n",
    "We see that high values of Age, Cholesterol, FastingBS, OldPeak and low values of MaxHR are predictive of HeartDisease. We also see the inter-feature correlation in the plotted heatmap."
   ]
  },
  {
   "cell_type": "code",
   "execution_count": 298,
   "metadata": {},
   "outputs": [
    {
     "name": "stderr",
     "output_type": "stream",
     "text": [
      "/tmp/ipykernel_14034/604118848.py:2: FutureWarning: The default value of numeric_only in DataFrame.corr is deprecated. In a future version, it will default to False. Select only valid columns or specify the value of numeric_only to silence this warning.\n",
      "  corr = data_frame.corr()\n"
     ]
    },
    {
     "data": {
      "text/plain": [
       "<Axes: >"
      ]
     },
     "execution_count": 298,
     "metadata": {},
     "output_type": "execute_result"
    },
    {
     "data": {
      "image/png": "[encoded data removed]",
      "text/plain": [
       "<Figure size 432x288 with 2 Axes>"
      ]
     },
     "metadata": {},
     "output_type": "display_data"
    }
   ],
   "source": [
    "#sns.pairplot(data=data_frame, hue=\"HeartDisease\")\n",
    "corr = data_frame.corr()\n",
    "mask = np.triu(np.ones_like(corr, dtype=bool))\n",
    "cmap = sns.diverging_palette(230, 20, as_cmap=True)\n",
    "sns.heatmap(corr, mask=mask, cmap=cmap, center=0,\n",
    "            square=True, linewidths=.5)"
   ]
  },
  {
   "attachments": {},
   "cell_type": "markdown",
   "metadata": {},
   "source": [
    "### Q2: Logistic Lasso Regression"
   ]
  },
  {
   "cell_type": "code",
   "execution_count": 299,
   "metadata": {},
   "outputs": [],
   "source": [
    "target_label = data_frame.pop(\"HeartDisease\")\n"
   ]
  },
  {
   "cell_type": "code",
   "execution_count": 300,
   "metadata": {},
   "outputs": [
    {
     "name": "stdout",
     "output_type": "stream",
     "text": [
      "<class 'pandas.core.frame.DataFrame'>\n",
      "Int64Index: 917 entries, 0 to 917\n",
      "Data columns (total 11 columns):\n",
      " #   Column          Non-Null Count  Dtype   \n",
      "---  ------          --------------  -----   \n",
      " 0   Age             917 non-null    int64   \n",
      " 1   Sex             917 non-null    category\n",
      " 2   ChestPainType   917 non-null    category\n",
      " 3   RestingBP       917 non-null    int64   \n",
      " 4   Cholesterol     917 non-null    float64 \n",
      " 5   FastingBS       917 non-null    int64   \n",
      " 6   RestingECG      917 non-null    category\n",
      " 7   MaxHR           917 non-null    int64   \n",
      " 8   ExerciseAngina  917 non-null    category\n",
      " 9   Oldpeak         917 non-null    float64 \n",
      " 10  ST_Slope        917 non-null    category\n",
      "dtypes: category(5), float64(2), int64(4)\n",
      "memory usage: 55.3 KB\n"
     ]
    }
   ],
   "source": [
    "#from sklearn.preprocessing import StandardScaler\n",
    "from sklearn.linear_model import LogisticRegression\n",
    "#standardized_data = StandardScaler().fit(data_frame)\n",
    "#standardized_data.info()\n",
    "data_frame.info()\n",
    "categorical_columns = data_frame.select_dtypes('category').columns\n",
    "data_frame[categorical_columns] = data_frame[categorical_columns].apply(lambda x: x.cat.codes)\n",
    "lr_classifier = LogisticRegression(solver='saga', penalty='l1', max_iter=10000).fit(data_frame, target_label)"
   ]
  },
  {
   "cell_type": "code",
   "execution_count": 301,
   "metadata": {},
   "outputs": [
    {
     "name": "stdout",
     "output_type": "stream",
     "text": [
      "Accuracy: 0.837514\n"
     ]
    }
   ],
   "source": [
    "predictions = lr_classifier.predict_proba(data_frame)\n",
    "predicted_labels = np.argmax(predictions, axis=1)\n",
    "\n",
    "# Calculate accuracy\n",
    "accuracy = np.sum(predicted_labels == target_label) / len(target_label)\n",
    "print(\"Accuracy: %f\" % accuracy)"
   ]
  },
  {
   "cell_type": "code",
   "execution_count": 302,
   "metadata": {},
   "outputs": [
    {
     "name": "stdout",
     "output_type": "stream",
     "text": [
      "<class 'pandas.core.frame.DataFrame'>\n",
      "RangeIndex: 184 entries, 0 to 183\n",
      "Data columns (total 12 columns):\n",
      " #   Column          Non-Null Count  Dtype  \n",
      "---  ------          --------------  -----  \n",
      " 0   Age             184 non-null    int64  \n",
      " 1   Sex             184 non-null    int8   \n",
      " 2   ChestPainType   184 non-null    int8   \n",
      " 3   RestingBP       184 non-null    int64  \n",
      " 4   Cholesterol     184 non-null    int64  \n",
      " 5   FastingBS       184 non-null    int64  \n",
      " 6   RestingECG      184 non-null    int8   \n",
      " 7   MaxHR           184 non-null    int64  \n",
      " 8   ExerciseAngina  184 non-null    int8   \n",
      " 9   Oldpeak         184 non-null    float64\n",
      " 10  ST_Slope        184 non-null    int8   \n",
      " 11  HeartDisease    184 non-null    int64  \n",
      "dtypes: float64(1), int64(6), int8(5)\n",
      "memory usage: 11.1 KB\n"
     ]
    }
   ],
   "source": [
    "test_frame = pd.read_csv(\"/home/omkar/ethz/fs23/ml4hc/project1/heart_failure/test_split.csv\")\n",
    "test_frame[categorical_columns] = test_frame[categorical_columns].astype('category')\n",
    "test_frame[categorical_columns] = test_frame[categorical_columns].apply(lambda x: x.cat.codes)\n",
    "test_frame.info()"
   ]
  },
  {
   "cell_type": "code",
   "execution_count": 303,
   "metadata": {},
   "outputs": [
    {
     "name": "stdout",
     "output_type": "stream",
     "text": [
      "Accuracy: 0.809783\n"
     ]
    }
   ],
   "source": [
    "test_target = test_frame.pop(\"HeartDisease\")\n",
    "predictions = lr_classifier.predict_proba(test_frame)\n",
    "predicted_labels = np.argmax(predictions, axis=1)\n",
    "\n",
    "# Calculate accuracy\n",
    "accuracy = np.sum(predicted_labels == test_target) / len(test_target)\n",
    "print(\"Accuracy: %f\" % accuracy)"
   ]
  },
  {
   "cell_type": "code",
   "execution_count": 304,
   "metadata": {},
   "outputs": [
    {
     "data": {
      "text/plain": [
       "array([[ 0.02579116,  0.61862059, -0.61572474,  0.00501104,  0.00328111,\n",
       "         0.51413717,  0.02273066, -0.01494   ,  0.60772175,  0.53889332,\n",
       "        -0.97705975]])"
      ]
     },
     "execution_count": 304,
     "metadata": {},
     "output_type": "execute_result"
    }
   ],
   "source": [
    "lr_classifier.coef_"
   ]
  }
 ],
 "metadata": {
  "kernelspec": {
   "display_name": "ml4hc",
   "language": "python",
   "name": "python3"
  },
  "language_info": {
   "codemirror_mode": {
    "name": "ipython",
    "version": 3
   },
   "file_extension": ".py",
   "mimetype": "text/x-python",
   "name": "python",
   "nbconvert_exporter": "python",
   "pygments_lexer": "ipython3",
   "version": "3.10.9"
  },
  "orig_nbformat": 4,
  "vscode": {
   "interpreter": {
    "hash": "551e3fbdcb2e2c6114b1b9535b6fe9b8f9ddd5dbb00cb654af97e75240abeb4b"
   }
  }
 },
 "nbformat": 4,
 "nbformat_minor": 2
}
